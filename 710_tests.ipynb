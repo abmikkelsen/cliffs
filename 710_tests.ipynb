{
 "cells": [
  {
   "cell_type": "markdown",
   "metadata": {},
   "source": [
    "# TESTS"
   ]
  },
  {
   "cell_type": "code",
   "execution_count": null,
   "metadata": {},
   "outputs": [],
   "source": [
    "###### PARALLELIZE DOWNLOADS  ##########\n",
    "\n",
    "from multiprocessing import Process\n",
    "\n",
    "start_time = time.time()\n",
    "\n",
    "foods = ['tuna', 'rice', 'pear', 'apple', 'coffee', 'lettuce', 'beans']\n",
    "hazards = 'storm' #, ['drought', 'heatwave', 'warming', 'storm', 'flooding']\n",
    "scholar_pages = [1]\n",
    "scholar_results = 3\n",
    " \n",
    "if __name__ == '__main__':\n",
    "    # create all tasks\n",
    "    processes = [Process(target=download_read.download_papers, args=(foods[i],hazards, scholar_pages, scholar_results, True)) for i in range(7)]\n",
    "    # start all processes\n",
    "    for process in processes:\n",
    "        process.start()\n",
    "    # wait for all processes to complete\n",
    "    for process in processes:\n",
    "        process.join()\n",
    "    # report that all tasks are completed\n",
    "    print('Done', flush=True)\n",
    "\n",
    "end_time = time.time() #stop timer\n",
    "elapsed_time = end_time - start_time\n",
    "print(elapsed_time)"
   ]
  },
  {
   "cell_type": "code",
   "execution_count": null,
   "metadata": {},
   "outputs": [],
   "source": [
    "#### TIMER COMPARISON AGAINST NON-PARALLEL PROCESSING\n",
    "start = time.time()\n",
    "\n",
    "foods = ['tuna', 'rice', 'pear', 'apple', 'coffee', 'lettuce', 'beans']\n",
    "hazards = 'storm' #, ['drought', 'heatwave', 'warming', 'storm', 'flooding']\n",
    "scholar_pages = [1]\n",
    "scholar_results = 3\n",
    "\n",
    "for food in foods:\n",
    "    download_read.download_papers(food, hazards, scholar_pages, scholar_results, True)\n",
    "\n",
    "stop = time.time() #stop timer\n",
    "timelength = stop - start\n",
    "print(timelength)"
   ]
  },
  {
   "cell_type": "code",
   "execution_count": null,
   "metadata": {},
   "outputs": [],
   "source": [
    "foods = ['Bay leaf','Bignose unicornfish','Button mushroom','Centropristis philadelphica','Chinese softshell turtle','Corica soborna','Ganges river sprat','Grasshopper','Large yellow croaker','Larimichthys croceus','Leucoraja erinacea','Little skate','mealworm','Naso vlamingii','Orange-spotted grouper','Ordways brotula','Pusa hispida','Ringed seal','Rock sea bass','Tenebrio molitor','Trionyx sinensis','Triticum aestivum','wheat']\n",
    "hazards = ['atmospheric CO2 increases','ocean acidification','ozone','storms','warming','precipitation','precipitation','fires','warming','warming','ocean acidification','ocean acidification','warming','ocean acidification','natural cover change','floods','heatwaves','Heatwaves','storms','warming','warming','drought','drought']\n",
    "API_Key = 'sec_6LIDxgLBHBqmhkVam818PYYXqervcPSX' #make a user and get api key from https://www.chatpdf.com/docs/api/backend\n",
    "scholar_pages = [1,2]\n",
    "scholar_results = 10\n",
    "question  = 'default' #f'1a) provide a quote from the text about how {hazard} impacts {food}? 2a) in what region is this study 3a) does {hazard} negatively or positively impact {food} (reply only negatvie/positive) 4a) exactly how is {food} impacted?'\n",
    "\n",
    "dfall = pd.DataFrame(columns=['filename', 'food', 'hazard', 'quote', 'location', 'pos/neg', 'how']) ## Specify a question in quotes or use the default: \"How does {hazard} impact {food}? can you provide a quote from the text about this?\"\n",
    "\n",
    "for i in range(0,len(foods)):\n",
    "    df = download_read.download_read_export(foods[i], hazards[i], API_Key, scholar_pages, scholar_results, question, True)\n",
    "    dfall = pd.concat([dfall, df], ignore_index=True)\n",
    "\n",
    "print(dfall)"
   ]
  },
  {
   "cell_type": "code",
   "execution_count": null,
   "metadata": {},
   "outputs": [],
   "source": [
    "foods = ['Bay leaf','Bignose unicornfish','Button mushroom','Centropristis philadelphica','Chinese softshell turtle','Corica soborna','Ganges river sprat','Grasshopper','Large yellow croaker','Larimichthys croceus','Leucoraja erinacea','Little skate','mealworm','Naso vlamingii','Orange-spotted grouper','Ordways brotula','Pusa hispida','Ringed seal','Rock sea bass','Tenebrio molitor','Trionyx sinensis','Triticum aestivum','wheat']\n",
    "hazards = ['atmospheric CO2 increases','ocean acidification','ozone','storms','warming','precipitation','precipitation','fires','warming','warming','ocean acidification','ocean acidification','warming','ocean acidification','natural cover change','floods','heatwaves','Heatwaves','storms','warming','warming','drought','drought']\n",
    "API_Key = 'sec_6LIDxgLBHBqmhkVam818PYYXqervcPSX' #make a user and get api key from https://www.chatpdf.com/docs/api/backend\n",
    "scholar_pages = [1,2]\n",
    "scholar_results = 10\n",
    "question  = 'default' #f'1a) provide a quote from the text about how {hazard} impacts {food}? 2a) in what region is this study 3a) does {hazard} negatively or positively impact {food} (reply only negatvie/positive) 4a) exactly how is {food} impacted?'\n",
    "\n",
    "for i in range(12,len(foods)):\n",
    "    df = download_read.download_read_export(foods[i], hazards[i], API_Key, scholar_pages, scholar_results, question, True)\n",
    "    dfall = pd.concat([dfall, df], ignore_index=True)\n",
    "\n",
    "print(dfall)"
   ]
  },
  {
   "cell_type": "code",
   "execution_count": null,
   "metadata": {},
   "outputs": [],
   "source": [
    "print(dfall)"
   ]
  },
  {
   "cell_type": "code",
   "execution_count": null,
   "metadata": {},
   "outputs": [],
   "source": [
    "dfall.to_csv('testdataentry.csv')"
   ]
  }
 ],
 "metadata": {
  "language_info": {
   "name": "python"
  }
 },
 "nbformat": 4,
 "nbformat_minor": 2
}
