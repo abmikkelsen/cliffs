{
 "cells": [
  {
   "cell_type": "markdown",
   "metadata": {},
   "source": [
    "# TESTS"
   ]
  },
  {
   "cell_type": "code",
   "execution_count": null,
   "metadata": {},
   "outputs": [],
   "source": [
    "###### PARALLELIZE DOWNLOADS  ##########\n",
    "\n",
    "from multiprocessing import Process\n",
    "\n",
    "start_time = time.time()\n",
    "\n",
    "foods = ['tuna', 'rice', 'pear', 'apple', 'coffee', 'lettuce', 'beans']\n",
    "hazards = 'storm' #, ['drought', 'heatwave', 'warming', 'storm', 'flooding']\n",
    "scholar_pages = [1]\n",
    "scholar_results = 3\n",
    " \n",
    "if __name__ == '__main__':\n",
    "    # create all tasks\n",
    "    processes = [Process(target=download_read.download_papers, args=(foods[i],hazards, scholar_pages, scholar_results, True)) for i in range(7)]\n",
    "    # start all processes\n",
    "    for process in processes:\n",
    "        process.start()\n",
    "    # wait for all processes to complete\n",
    "    for process in processes:\n",
    "        process.join()\n",
    "    # report that all tasks are completed\n",
    "    print('Done', flush=True)\n",
    "\n",
    "end_time = time.time() #stop timer\n",
    "elapsed_time = end_time - start_time\n",
    "print(elapsed_time)"
   ]
  },
  {
   "cell_type": "code",
   "execution_count": null,
   "metadata": {},
   "outputs": [],
   "source": [
    "#### TIMER COMPARISON AGAINST NON-PARALLEL PROCESSING\n",
    "start = time.time()\n",
    "\n",
    "foods = ['tuna', 'rice', 'pear', 'apple', 'coffee', 'lettuce', 'beans']\n",
    "hazards = 'storm' #, ['drought', 'heatwave', 'warming', 'storm', 'flooding']\n",
    "scholar_pages = [1]\n",
    "scholar_results = 3\n",
    "\n",
    "for food in foods:\n",
    "    download_read.download_papers(food, hazards, scholar_pages, scholar_results, True)\n",
    "\n",
    "stop = time.time() #stop timer\n",
    "timelength = stop - start\n",
    "print(timelength)"
   ]
  },
  {
   "cell_type": "code",
   "execution_count": null,
   "metadata": {},
   "outputs": [],
   "source": [
    "foods = ['Bay leaf','Bignose unicornfish','Button mushroom','Centropristis philadelphica','Chinese softshell turtle','Corica soborna','Ganges river sprat','Grasshopper','Large yellow croaker','Larimichthys croceus','Leucoraja erinacea','Little skate','mealworm','Naso vlamingii','Orange-spotted grouper','Ordways brotula','Pusa hispida','Ringed seal','Rock sea bass','Tenebrio molitor','Trionyx sinensis','Triticum aestivum','wheat']\n",
    "hazards = ['atmospheric CO2 increases','ocean acidification','ozone','storms','warming','precipitation','precipitation','fires','warming','warming','ocean acidification','ocean acidification','warming','ocean acidification','natural cover change','floods','heatwaves','Heatwaves','storms','warming','warming','drought','drought']\n",
    "API_Key = 'sec_6LIDxgLBHBqmhkVam818PYYXqervcPSX' #make a user and get api key from https://www.chatpdf.com/docs/api/backend\n",
    "scholar_pages = [1,2]\n",
    "scholar_results = 10\n",
    "question  = 'default' #f'1a) provide a quote from the text about how {hazard} impacts {food}? 2a) in what region is this study 3a) does {hazard} negatively or positively impact {food} (reply only negatvie/positive) 4a) exactly how is {food} impacted?'\n",
    "\n",
    "dfall = pd.DataFrame(columns=['filename', 'food', 'hazard', 'quote', 'location', 'pos/neg', 'how']) ## Specify a question in quotes or use the default: \"How does {hazard} impact {food}? can you provide a quote from the text about this?\"\n",
    "\n",
    "for i in range(0,len(foods)):\n",
    "    df = download_read.download_read_export(foods[i], hazards[i], API_Key, scholar_pages, scholar_results, question, True)\n",
    "    dfall = pd.concat([dfall, df], ignore_index=True)\n",
    "\n",
    "print(dfall)"
   ]
  },
  {
   "cell_type": "code",
   "execution_count": null,
   "metadata": {},
   "outputs": [],
   "source": [
    "foods = ['Bay leaf','Bignose unicornfish','Button mushroom','Centropristis philadelphica','Chinese softshell turtle','Corica soborna','Ganges river sprat','Grasshopper','Large yellow croaker','Larimichthys croceus','Leucoraja erinacea','Little skate','mealworm','Naso vlamingii','Orange-spotted grouper','Ordways brotula','Pusa hispida','Ringed seal','Rock sea bass','Tenebrio molitor','Trionyx sinensis','Triticum aestivum','wheat']\n",
    "hazards = ['atmospheric CO2 increases','ocean acidification','ozone','storms','warming','precipitation','precipitation','fires','warming','warming','ocean acidification','ocean acidification','warming','ocean acidification','natural cover change','floods','heatwaves','Heatwaves','storms','warming','warming','drought','drought']\n",
    "API_Key = 'sec_6LIDxgLBHBqmhkVam818PYYXqervcPSX' #make a user and get api key from https://www.chatpdf.com/docs/api/backend\n",
    "scholar_pages = [1,2]\n",
    "scholar_results = 10\n",
    "question  = 'default' #f'1a) provide a quote from the text about how {hazard} impacts {food}? 2a) in what region is this study 3a) does {hazard} negatively or positively impact {food} (reply only negatvie/positive) 4a) exactly how is {food} impacted?'\n",
    "\n",
    "for i in range(12,len(foods)):\n",
    "    df = download_read.download_read_export(foods[i], hazards[i], API_Key, scholar_pages, scholar_results, question, True)\n",
    "    dfall = pd.concat([dfall, df], ignore_index=True)\n",
    "\n",
    "print(dfall)"
   ]
  },
  {
   "cell_type": "code",
   "execution_count": null,
   "metadata": {},
   "outputs": [],
   "source": [
    "print(dfall)"
   ]
  },
  {
   "cell_type": "code",
   "execution_count": null,
   "metadata": {},
   "outputs": [],
   "source": [
    "dfall.to_csv('testdataentry.csv')"
   ]
  },
  {
   "cell_type": "code",
   "execution_count": 1,
   "metadata": {},
   "outputs": [
    {
     "name": "stdout",
     "output_type": "stream",
     "text": [
      "{'foodname': ['Bocachico', 'Assegai tree', 'True water beetle', 'Chicken', 'Eincorn wheat grain', 'Potato ', 'Potato', 'Eggplant', 'Alaska pollock', 'Wheat'], 'species': ['Curimata cyprinoides', 'Curtisia dentata', 'Cybister limbatus', 'Gallus gallus', 'Triticum monococcum', 'Solanum tuberosum', 'Solanum stenotomum', 'Solanum malongena', 'Gadus chalcogrammus', 'Triticum aestivum'], 'other': ['Branquinha', 'Kulupi', 'Umlahleni', 'Cape Lancewood', 'Solanum stenotonum', 'Aubergine', 'Walleye pollock']}\n"
     ]
    }
   ],
   "source": [
    "#test import csv foodlist\n",
    "from download_read import import_foodlist\n",
    "\n",
    "foodlist = import_foodlist(\"Test food items.csv\")\n",
    "print(foodlist)"
   ]
  },
  {
   "cell_type": "code",
   "execution_count": 3,
   "metadata": {},
   "outputs": [
    {
     "name": "stdout",
     "output_type": "stream",
     "text": [
      "foodname\n",
      "['Bocachico', 'Assegai tree', 'True water beetle', 'Chicken', 'Eincorn wheat grain', 'Potato ', 'Potato', 'Eggplant', 'Alaska pollock', 'Wheat']\n",
      "species\n",
      "['Curimata cyprinoides', 'Curtisia dentata', 'Cybister limbatus', 'Gallus gallus', 'Triticum monococcum', 'Solanum tuberosum', 'Solanum stenotomum', 'Solanum malongena', 'Gadus chalcogrammus', 'Triticum aestivum']\n",
      "other\n",
      "['Branquinha', 'Kulupi', 'Umlahleni', 'Cape Lancewood', 'Solanum stenotonum', 'Aubergine', 'Walleye pollock']\n"
     ]
    }
   ],
   "source": [
    "for list in foodlist:\n",
    "    print(f\"{list}\")\n",
    "    print(foodlist[list])"
   ]
  },
  {
   "cell_type": "code",
   "execution_count": 2,
   "metadata": {},
   "outputs": [
    {
     "name": "stdout",
     "output_type": "stream",
     "text": [
      "Done\n"
     ]
    }
   ],
   "source": [
    "#test list split to different columns and run all functions\n",
    "import download_read\n",
    "from multiprocessing import Process\n",
    "\n",
    "foodlist = download_read.import_foodlist(\"Test food items.csv\")\n",
    "hazards = ['Warming','Atmospheric CO2 Increase','Ocean Acidification','Drought','Precipitation','Storms','Ozone','Fires','Sea level rise','Floods','Heatwaves','Natural cover change']\n",
    "API_Key = 'sec_6LIDxgLBHBqmhkVam818PYYXqervcPSX' #make a user and get api key from https://www.chatpdf.com/docs/api/backend\n",
    "scholar_pages = [1,2]\n",
    "scholar_results = 10\n",
    "question  = 'default' #f'1a) provide a quote from the text about how {hazard} impacts {food}? 2a) in what region is this study 3a) does {hazard} negatively or positively impact {food} (reply only negatvie/positive) 4a) exactly how is {food} impacted?'\n",
    "\n",
    "for hazard in hazards:\n",
    "   for list in foodlist:\n",
    "      foods = foodlist[list]\n",
    "      if __name__ == '__main__':\n",
    "            # create all tasks\n",
    "            processes = [Process(target=download_read.download_papers, args=(foods[i],hazard, scholar_pages, scholar_results, True)) for i in range(len(foods))]\n",
    "            # start all processes\n",
    "            for process in processes:\n",
    "                process.start()\n",
    "            # wait for all processes to complete\n",
    "            for process in processes:\n",
    "                process.join()\n",
    "            # report that all tasks are completed\n",
    "            print('Done', flush=True)\n"
   ]
  },
  {
   "cell_type": "code",
   "execution_count": null,
   "metadata": {},
   "outputs": [],
   "source": [
    "# Create an empty dataframe to store the results\n",
    "dfall = pd.DataFrame(columns=['filename', 'foodname','species','othername', 'hazard', 'quote', 'location', 'pos/neg', 'how','howquote']) ## Specify a question in quotes or use the default: \"How does {hazard} impact {food}? can you provide a quote from the text about this?\"\n",
    "skip_if_folder_exists = True ## dummy variable, if you have the data downloaded already and dont want to re-download it. defualt=True\n",
    "\n",
    "# Create an empty dataframe to store the results\n",
    "#dfall = pd.DataFrame(columns=['food', 'hazard', 'quote', 'location', 'page', 'paragraph'])\n",
    "\n",
    "## Run function across combinations of food and hazard\n",
    "for hazard in hazards:\n",
    "   for list in foodlist:\n",
    "      foods = foodlist[list]\n",
    "      df = download_read_export(food, hazard, API_Key, scholar_pages=scholar_pages, scholar_results=scholar_results, question=question, skip_if_folder_exists = True)\n",
    "      dfall = pd.concat([dfall, df], ignore_index=True)\n",
    "\n",
    "# Print the merged dataframe\n",
    "print(dfall)"
   ]
  }
 ],
 "metadata": {
  "kernelspec": {
   "display_name": "Python 3",
   "language": "python",
   "name": "python3"
  },
  "language_info": {
   "codemirror_mode": {
    "name": "ipython",
    "version": 3
   },
   "file_extension": ".py",
   "mimetype": "text/x-python",
   "name": "python",
   "nbconvert_exporter": "python",
   "pygments_lexer": "ipython3",
   "version": "3.7.6"
  }
 },
 "nbformat": 4,
 "nbformat_minor": 2
}
