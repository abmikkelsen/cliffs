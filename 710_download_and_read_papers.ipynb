{
 "cells": [
  {
   "cell_type": "markdown",
   "metadata": {
    "id": "OQXL6WvaRjgH"
   },
   "source": [
    "## function to download and analyse papers from google scholar\n",
    "- This function will do a google scholar search based on a query (food + hazard)\n",
    "- It will attempt to download the first 20 results (mostly through scihub)\n",
    "- Then ChatPDF will check through each pdf and answer your question and find quotes within each pdf\n",
    "\n",
    "You need\n",
    "1. To install PyPaperBot (you can do this in anaconda terminal by typing *pip install PyPaperBot*)\n",
    "2. A chatPDF API Key. you can get this by making a chatPDF user and clicking *My Account* on the ChatPDF API website https://www.chatpdf.com/docs/api/backend\n"
   ]
  },
  {
   "cell_type": "code",
   "execution_count": null,
   "metadata": {},
   "outputs": [],
   "source": [
    "\n",
    "import os\n",
    "import pandas as pd\n",
    "from download_read import download_read_export"
   ]
  },
  {
   "cell_type": "code",
   "execution_count": null,
   "metadata": {},
   "outputs": [],
   "source": [
    "foods = ['wheat']#, 'rice', 'tuna', 'apple', 'coffee']\n",
    "hazards = ['heatwave']#, ['drought', 'heatwave', 'warming', 'storm', 'flooding']\n",
    "API_Key = 'sec_6LIDxgLBHBqmhkVam818PYYXqervcPSX' #make a user and get api key from https://www.chatpdf.com/docs/api/backend\n",
    "scholar_pages = [1,2]\n",
    "scholar_results = 5\n",
    "question  = 'default' #f'1a) provide a quote from the text about how {hazard} impacts {food}? 2a) in what region is this study 3a) does {hazard} negatively or positively impact {food} (reply only negatvie/positive) 4a) exactly how is {food} impacted?'\n",
    "\n",
    "# Create an empty dataframe to store the results\n",
    "dfall = pd.DataFrame(columns=['filename', 'food', 'hazard', 'quote', 'location', 'pos/neg', 'how']) ## Specify a question in quotes or use the default: \"How does {hazard} impact {food}? can you provide a quote from the text about this?\"\n",
    "skip_if_folder_exists = True ## dummy variable, if you have the data downloaded already and dont want to re-download it. defualt=True\n",
    "\n",
    "# Create an empty dataframe to store the results\n",
    "#dfall = pd.DataFrame(columns=['food', 'hazard', 'quote', 'location', 'page', 'paragraph'])\n",
    "\n",
    "## Run function across combinations of food and hazard\n",
    "for food in foods:\n",
    "  for hazard in hazards:\n",
    "    df = download_read_export(food, hazard, API_Key, scholar_pages=scholar_pages, scholar_results=scholar_results, question=question, skip_if_folder_exists = True)\n",
    "    dfall = pd.concat([dfall, df], ignore_index=True)\n",
    "\n",
    "# Print the merged dataframe\n",
    "print(dfall)\n"
   ]
  },
  {
   "cell_type": "code",
   "execution_count": null,
   "metadata": {},
   "outputs": [],
   "source": []
  },
  {
   "cell_type": "code",
   "execution_count": null,
   "metadata": {},
   "outputs": [],
   "source": []
  }
 ],
 "metadata": {
  "colab": {
   "provenance": []
  },
  "kernelspec": {
   "display_name": "Python 3 (ipykernel)",
   "language": "python",
   "name": "python3"
  },
  "language_info": {
   "codemirror_mode": {
    "name": "ipython",
    "version": 3
   },
   "file_extension": ".py",
   "mimetype": "text/x-python",
   "name": "python",
   "nbconvert_exporter": "python",
   "pygments_lexer": "ipython3",
   "version": "3.9.18"
  }
 },
 "nbformat": 4,
 "nbformat_minor": 4
}
